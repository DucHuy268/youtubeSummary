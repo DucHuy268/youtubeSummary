{
 "cells": [
  {
   "cell_type": "markdown",
   "id": "b51fa2e8",
   "metadata": {},
   "source": [
    "## Download mp4 to mp3"
   ]
  },
  {
   "cell_type": "code",
   "execution_count": 1,
   "id": "6b1ddacd",
   "metadata": {
    "scrolled": true
   },
   "outputs": [
    {
     "name": "stdout",
     "output_type": "stream",
     "text": [
      "Running command: ffmpeg -i C:\\Users\\Huy\\Documents\\python-project-24\\./video/speech.mp3 ./video/speech.wav\n",
      "\"I Got Rich When I Understood This\" | Jeff Bezos has been successfully downloaded and converted to WAV.\n",
      "Audio downloaded and converted to WAV: ./video/speech.wav\n",
      "Time taken: 2.38 seconds\n"
     ]
    }
   ],
   "source": [
    "from pytube import YouTube\n",
    "from pydub import AudioSegment\n",
    "import os\n",
    "import io\n",
    "import time\n",
    "import ffmpeg\n",
    "\n",
    "\n",
    "relativ_output_speech = \"./video/speech.wav\"\n",
    "\n",
    "def download_video_and_convert_to_wav(url, input_filename=\"speech\", output_path=\"./video/\", output_speech=\"speech.wav\"):\n",
    "    start_time = time.time()\n",
    "\n",
    "    # url input from user\n",
    "    yt = YouTube(url)\n",
    "\n",
    "    # Check if speech.wav already exists and delete it\n",
    "    existing_wav_file = os.path.join(output_path, output_speech)\n",
    "    if os.path.exists(existing_wav_file):\n",
    "        os.remove(existing_wav_file)\n",
    "\n",
    "    # extract only audio\n",
    "    video = yt.streams.filter(only_audio=True).first()\n",
    "\n",
    "    # download the file\n",
    "    out_file = video.download(output_path=output_path, filename=input_filename)\n",
    "    \n",
    "    # save the file as MP3\n",
    "    base, _ = os.path.splitext(out_file)\n",
    "    mp3_file = base + '.mp3'\n",
    "    os.rename(out_file, mp3_file)\n",
    "\n",
    "    # convert MP3 to WAV\n",
    "    wav_file = os.path.join(output_path, output_speech)\n",
    "    command2wav = f\"ffmpeg -i {mp3_file} {wav_file}\"\n",
    "    print(f\"Running command: {command2wav}\")\n",
    "    os.system(command2wav)\n",
    "\n",
    "    # remove the original MP3 file\n",
    "    os.remove(mp3_file)\n",
    "\n",
    "    # result of success\n",
    "    print(f\"{yt.title} has been successfully downloaded and converted to WAV.\")\n",
    "\n",
    "    end_time = time.time()\n",
    "\n",
    "    print(f\"Audio downloaded and converted to WAV: {wav_file}\")\n",
    "    print(f\"Time taken: {end_time - start_time:.2f} seconds\")\n",
    "\n",
    "    return wav_file\n",
    "\n",
    "\n",
    "# Example usage\n",
    "video_url = \"https://www.youtube.com/watch?v=7TWKKww-F30\"\n",
    "output_directory = \"./video/\"\n",
    "\n",
    "# Ensure the output directory exists\n",
    "os.makedirs(output_directory, exist_ok=True)\n",
    "\n",
    "wav_file_path = download_video_and_convert_to_wav(video_url)\n"
   ]
  },
  {
   "cell_type": "markdown",
   "id": "56f3bc4b",
   "metadata": {},
   "source": [
    "## MP3 to Text"
   ]
  },
  {
   "cell_type": "code",
   "execution_count": 2,
   "id": "bca3750d",
   "metadata": {},
   "outputs": [
    {
     "name": "stdout",
     "output_type": "stream",
     "text": [
      "I was working at a financial firm in New York City with a bunch of very smart people, and I had a brilliant boss I much admired. I went to my boss and told him I was going to start a company selling books on the Internet. He took me on a long walk in Central park, listened carefully to me, and finally said, that sounds like a really good idea, but it would be an even better idea for someone who didn't already have a good job. You can have a job, or you can have a career, or you can have a calling. And if you can somehow figure how to have a calling, you have hit the jackpot, because that's the big deal. I met Jeff Bezos 25 years ago, and he told me, dave, I want you to invest in my company. What are you doing? I'm going to start a bookstore in my garage, okay? I'm going to put it online. People buy online, and I'm going to ship out of my garage. But if you invest in me, Dave, someday I'm going to be the richest man in the world. I'll do over $100 billion. First of all, there is no such thing as $100,000,000,000.25 years ago. Statistically, there's no such thing. Countries didn't have 100. Our national debt wasn't $100 billion. And this dude's telling me at 26 years old that he's going to be the richest man in the world because he has a garage and the Internet? That was his truth. No, but he did not know it, and neither did I. But the difference between him and I is I was laughing, scoffing, and jesting at him, and he was already applauding himself, going at the right way at the perfect time. I'm going to make as much as I can as quickly, and I'm sitting there going, there's no way this is going to be a big business. Do something you're very passionate about, and don't try to chase what is kind of the hot passion of the day seen in that light. It really was a difficult choice, but ultimately, I decided I had to give it a shot. I didn't think I'd regret trying and failing, and I suspected I would always be haunted by a decision to not try at all. After much consideration, I took the less safe path to follow my passion. And I'm proud of that choice. As a young boy, I had been a garage inventor. I'd invented an automatic gate closer out of cement filled tires, a solar cooker that didn't work very well out of an umbrella and aluminum foil baking pan alarms to entrap my siblings. I'd always wanted to be an inventor, and she wanted me to follow my passion. There's a military phrase that I especially love, and it says, slow is smooth and smooth is fast. And I have seen that in every endeavor I've ever been in. That's the kind of thing that really allows you to make progress. You get certain gifts in life, and you want to take advantage of those. But I guess my advice on adversity and success would be to be proud, not of your gifts, but of your hard work and your choices. So the kinds of gifts you get, you might be really good at math, might be really easy for you. That's a kind of gift. But practicing that math and taking it to the next step, that could be very challenging and hard and take a lot of sweat. That's a choice. You can't really be proud of your gifts because they were given to you. You can be grateful for them and thankful for them, but your choices, you choose to work hard, you choose to do hard things. Those are choices that you can be proud of. You can choose. We all get to choose our life stories, and it's the choices that define us, not our gifts. Everybody in this room has many gifts. I have many gifts. You can never be proud of your gifts because they're gifts. They were given to you. You might be tall, or you might be really good at math, or you might be extremely beautiful or handsome. There are many gifts, and you can only be proud, really, of your choices because those are the things that you are acting on. And one of the most important choices that each of us has, and you know this just as well as I do, is you can choose a life of ease and comfort, or you can choose a life of service and adventure. And when you're 80, which one of those things do you think you're going to be more proud of? You're going to be more proud of having chosen a life of service and adventure? There's never been a better time to be alive. I mean, it's just an incredible. The amount of inspiration that the world generates for me, and I think for a lot of people, it's insane. The amount of change and invention and opportunity. Your life, the life you author from scratch on your own, begins. How will you use your gifts? What choices will you make? Will inertia be your guide? Or will you follow your passions? Will you follow dogma, or will you be original? Will you choose a life of ease or a life of service and adventure? Will you wilt under criticism, or will you follow your convictions? Will you bluff it out when you're wrong, or will you apologize? Will you guard your heart against rejection, or will you act when you fall in love? Will you play it safe? Or will you be a little bit swashbuckling when it's tough? Will you give up, or will you be relentless? Will you be a cynic or will you be a builder? Will you be clever at the expense of others, or will you be kind? Every time you figure out some way of providing tools and services that empower other people to deploy their creativity, you're really onto something. You're very lucky if you have a career. A lot of people end up with a job. If you don't love your work, you're never going to be great at it. Jules Verne, Mark Twain, Galileo, Newton, all the curious from the ages would have wanted to be alive most of all. Right now, as a civilization, we will have so many gifts, just as you, as individuals, have so many individual gifts. As you sit before me, how will you use these gifts? And will you take pride in your gifts or pride in your choices?\n"
     ]
    }
   ],
   "source": [
    "import assemblyai as aai\n",
    "from dotenv import load_dotenv\n",
    "\n",
    "# Load environment variables from .env file\n",
    "load_dotenv()\n",
    "apiKey= os.getenv(\"APIKEY\")\n",
    "\n",
    "aai.settings.api_key = apiKey\n",
    "transcriber = aai.Transcriber()\n",
    "\n",
    "# transcript = transcriber.transcribe(\"https://storage.googleapis.com/aai-web-samples/news.mp4\")\n",
    "transcript = transcriber.transcribe(relativ_output_speech)\n",
    "\n",
    "print(transcript.text)"
   ]
  },
  {
   "cell_type": "markdown",
   "id": "21151cf8",
   "metadata": {},
   "source": [
    "## Summarization"
   ]
  },
  {
   "cell_type": "code",
   "execution_count": 3,
   "id": "d674c434",
   "metadata": {},
   "outputs": [],
   "source": [
    "from chatbot import ChatGPTFree"
   ]
  },
  {
   "cell_type": "code",
   "execution_count": 4,
   "id": "c4ab2faf",
   "metadata": {},
   "outputs": [],
   "source": [
    "question = f\"What should we learnt about this text that is between the simple quote: ' {transcript.text}'\""
   ]
  },
  {
   "cell_type": "code",
   "execution_count": 5,
   "id": "3dbf2e18",
   "metadata": {},
   "outputs": [
    {
     "name": "stdout",
     "output_type": "stream",
     "text": [
      "Email address entered successfully\n",
      "Form submitted successfully\n",
      "Form submitted successfully\n",
      "Pressed 'Enter' in the input field\n"
     ]
    }
   ],
   "source": [
    "user = ChatGPTFree()\n",
    "driver = user.logInChatGPT()\n",
    "answer= user.questionRequest(question, driver, questionTime=60)"
   ]
  },
  {
   "cell_type": "code",
   "execution_count": 6,
   "id": "42be483a",
   "metadata": {},
   "outputs": [
    {
     "name": "stdout",
     "output_type": "stream",
     "text": [
      "The text you provided appears to be a combination of personal anecdotes and reflections, perhaps from a speaker or author sharing their experiences and insights. Here are some key points and lessons that can be gleaned from the text:\r\n",
      "\r\n",
      "1. **Follow Your Passion:**\r\n",
      "   - The speaker recounts a conversation with their boss about starting a company selling books on the Internet. Despite skepticism, they chose to follow their passion.\r\n",
      "\r\n",
      "2. **Embrace Challenges:**\r\n",
      "   - The speaker emphasizes the importance of choosing a path of service and adventure over ease and comfort. They suggest that facing challenges and adversity is a key part of a fulfilling life.\r\n",
      "\r\n",
      "3. **Believe in Yourself:**\r\n",
      "   - The story of Jeff Bezos illustrates the power of self-belief. Despite initial skepticism from others, Bezos had confidence in his vision and eventually built a highly successful company.\r\n",
      "\r\n",
      "4. **Value Choices Over Gifts:**\r\n",
      "   - The text suggests that one should be proud of their choices rather than their inherent gifts. Choices, such as working hard and making decisions, are within one's control and define who they are.\r\n",
      "\r\n",
      "5. **Persistence and Relentlessness:**\r\n",
      "   - The speaker advocates for being relentless and not giving up, even when faced with challenges. This quality is portrayed as essential for success.\r\n",
      "\r\n",
      "6. **Originality Over Dogma:**\r\n",
      "   - The text encourages choosing a path of originality over blindly following established beliefs or dogma. Being open-minded and innovative is highlighted as a valuable trait.\r\n",
      "\r\n",
      "7. **Service and Adventure:**\r\n",
      "   - Choosing a life of service and adventure is presented as a more fulfilling and meaningful option. The speaker suggests that, in the long run, one would be prouder of a life dedicated to service and adventure.\r\n",
      "\r\n",
      "8. **Be Proud of Your Choices:**\r\n",
      "   - Pride is associated with the choices one makes in life, as opposed to innate gifts. The emphasis is on making conscious decisions that align with one's values and passions.\r\n",
      "\r\n",
      "9. **Encouragement to Innovate:**\r\n",
      "   - The mention of providing tools and services that empower others to deploy their creativity suggests the value of innovation and creating opportunities for others.\r\n",
      "\r\n",
      "10. **Love Your Work:**\r\n",
      "    - The importance of loving one's work is highlighted. A career is distinguished from a job, with the suggestion that genuine passion for one's work leads to greatness.\r\n",
      "\r\n",
      "11. **Inspiration from the Present:**\r\n",
      "    - The speaker expresses a sense of awe and inspiration at the current state of the world, emphasizing the opportunities and possibilities that exist.\r\n",
      "\r\n",
      "12. **The Power of Choices:**\r\n",
      "    - The concluding questions challenge the audience to reflect on how they will use their individual gifts and whether they will take pride in their choices. This underscores the theme that life is shaped by the choices one makes.\r\n",
      "\r\n",
      "Overall, the text encourages readers to pursue their passions, make bold choices, and value the journey of service and adventure over a life of ease and comfort. It emphasizes the transformative power of individual choices and the importance of being proud of those choices.\n"
     ]
    }
   ],
   "source": [
    "print(answer)"
   ]
  },
  {
   "cell_type": "code",
   "execution_count": null,
   "id": "6fc999d7",
   "metadata": {},
   "outputs": [],
   "source": []
  }
 ],
 "metadata": {
  "kernelspec": {
   "display_name": "speechToText",
   "language": "python",
   "name": "speechtotext"
  },
  "language_info": {
   "codemirror_mode": {
    "name": "ipython",
    "version": 3
   },
   "file_extension": ".py",
   "mimetype": "text/x-python",
   "name": "python",
   "nbconvert_exporter": "python",
   "pygments_lexer": "ipython3",
   "version": "3.12.0"
  }
 },
 "nbformat": 4,
 "nbformat_minor": 5
}
